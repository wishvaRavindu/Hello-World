{
  "nbformat": 4,
  "nbformat_minor": 0,
  "metadata": {
    "colab": {
      "name": "pythonList.ipynb",
      "provenance": [],
      "collapsed_sections": [],
      "authorship_tag": "ABX9TyM0MeQQAvCuTQgM1Ynw9ATk",
      "include_colab_link": true
    },
    "kernelspec": {
      "name": "python3",
      "display_name": "Python 3"
    },
    "language_info": {
      "name": "python"
    }
  },
  "cells": [
    {
      "cell_type": "markdown",
      "metadata": {
        "id": "view-in-github",
        "colab_type": "text"
      },
      "source": [
        "<a href=\"https://colab.research.google.com/github/wishvaRavindu/Hello-World/blob/master/pythonList.ipynb\" target=\"_parent\"><img src=\"https://colab.research.google.com/assets/colab-badge.svg\" alt=\"Open In Colab\"/></a>"
      ]
    },
    {
      "cell_type": "code",
      "metadata": {
        "colab": {
          "base_uri": "https://localhost:8080/"
        },
        "id": "TnmlfTVr2Bmo",
        "outputId": "ebc6e835-0a2b-4a6c-a03a-dec1db2700ad"
      },
      "source": [
        "book = {}\n",
        "\n",
        "book[\"tom\"] = {\n",
        "     \"name\":\"tom\",\n",
        "     \"address\":\"1 red street\",\n",
        "     \"phone\":1234566\n",
        "}\n",
        "\n",
        "book[\"sam\"] = {\n",
        "     \"name\":\"sam\",\n",
        "     \"address\":\"2 red street\",\n",
        "     \"phone\":12345456\n",
        "}\n",
        "\n",
        "book[\"bob\"] = {\n",
        "     \"name\":\"bob\",\n",
        "     \"address\":\"5 red street\",\n",
        "     \"phone\":12344783\n",
        "}\n",
        "\n",
        "\n",
        "import json \n",
        "s = json.dumps(book)\n",
        "print(s)\n"
      ],
      "execution_count": 2,
      "outputs": [
        {
          "output_type": "stream",
          "text": [
            "{\"tom\": {\"name\": \"tom\", \"address\": \"1 red street\", \"phone\": 1234566}, \"sam\": {\"name\": \"sam\", \"address\": \"2 red street\", \"phone\": 12345456}, \"bob\": {\"name\": \"bob\", \"address\": \"5 red street\", \"phone\": 12344783}}\n"
          ],
          "name": "stdout"
        }
      ]
    },
    {
      "cell_type": "code",
      "metadata": {
        "colab": {
          "base_uri": "https://localhost:8080/"
        },
        "id": "aHMa9SQp_HT5",
        "outputId": "383fa9a2-0a70-4aa3-a889-7bbd911cb6c4"
      },
      "source": [
        "if __name__ == \"__main__\":\n",
        "  print(\"this __name__ is used as the entry point python like in java we psvm in python we __name__\")"
      ],
      "execution_count": 3,
      "outputs": [
        {
          "output_type": "stream",
          "text": [
            "this __name__ is used as the entry point python like in java we psvm in python we __name__\n"
          ],
          "name": "stdout"
        }
      ]
    },
    {
      "cell_type": "code",
      "metadata": {
        "colab": {
          "base_uri": "https://localhost:8080/"
        },
        "id": "YiI3Jg-0BCq7",
        "outputId": "76ffd4b1-27a8-4aca-92e2-eda0b5f6adeb"
      },
      "source": [
        "print(\"handling exceptions\")\n",
        "\n",
        "x  = input(\"enter the number1 : \")\n",
        "y  = input(\"enter the number2 : \")\n",
        "\n",
        "try: \n",
        "  z = int(x)/int(y)\n",
        "\n",
        "except ZeroDivisionError as e :\n",
        "  print(\"Division zero exception\")\n",
        "  z = \"No values\"\n",
        "\n",
        "print(z)"
      ],
      "execution_count": 7,
      "outputs": [
        {
          "output_type": "stream",
          "text": [
            "handling exceptions\n",
            "enter the number1 : 1\n",
            "enter the number2 : 0\n",
            "Division zero exception\n",
            "No values\n"
          ],
          "name": "stdout"
        }
      ]
    },
    {
      "cell_type": "code",
      "metadata": {
        "colab": {
          "base_uri": "https://localhost:8080/"
        },
        "id": "L3uD8lvMCc_a",
        "outputId": "4e17a3fa-b8ec-4411-9bbb-4c1dea53ae0d"
      },
      "source": [
        "print(\"python classes\")\n",
        "\n",
        "class Human:\n",
        "\n",
        "  def __init__(self,n,o):\n",
        "    self.name = n\n",
        "    self.occupation = o\n",
        "\n",
        "  def do_work(self):\n",
        "    if self.occupation == \"tennis player\":\n",
        "      print(self.name,\"plays denis\")\n",
        "    else:\n",
        "      print(self.name,\"actor\")\n",
        "  \n",
        "#creating and instance\n",
        "\n",
        "tom = Human(\"Tom\",\"actor\")\n",
        "tom.do_work()\n",
        "\n",
        "maria = Human(\"maria\",\"tennis player\")\n",
        "maria.do_work()"
      ],
      "execution_count": 9,
      "outputs": [
        {
          "output_type": "stream",
          "text": [
            "python classes\n",
            "Tom actor\n",
            "maria plays denis\n"
          ],
          "name": "stdout"
        }
      ]
    },
    {
      "cell_type": "code",
      "metadata": {
        "colab": {
          "base_uri": "https://localhost:8080/"
        },
        "id": "SIOekqrIFgNZ",
        "outputId": "47e34e1f-5d14-4ac8-ffe7-61aa18cf40fa"
      },
      "source": [
        "class Vehicle:\n",
        "  def general_usage(self):\n",
        "    print(\"general usage is for transportation\")\n",
        "\n",
        "class Car(Vehicle):\n",
        "\n",
        "  def __init__(self):\n",
        "    print(\"i am a car\")\n",
        "    self.wheels = 4\n",
        "    self.has_roof = True\n",
        "\n",
        "  def specific_usage(self):\n",
        "    self.general_usage()\n",
        "    print(\"specific use : commute to work, vacation with family\")\n",
        "\n",
        "class MotoCycle(Vehicle):\n",
        "\n",
        "  def __init__(self):\n",
        "    print(\"i am a car\")\n",
        "    self.wheels = 2\n",
        "    self.has_roof = False\n",
        "\n",
        "  def specific_usage(self):\n",
        "    print(\"specific use : road trip and racing\")\n",
        "\n",
        "\n",
        "\n",
        "c = Car()\n",
        "\n",
        "c.general_usage()\n",
        "c.specific_usage()\n",
        "\n",
        "\n"
      ],
      "execution_count": 11,
      "outputs": [
        {
          "output_type": "stream",
          "text": [
            "i am a car\n",
            "general usage is for transportation\n",
            "specific use : commute to work, vacation with family\n"
          ],
          "name": "stdout"
        }
      ]
    },
    {
      "cell_type": "code",
      "metadata": {
        "colab": {
          "base_uri": "https://localhost:8080/"
        },
        "id": "OCXZJPQPHi5b",
        "outputId": "f636879b-1e5e-4995-d772-ecfa4e0adba0"
      },
      "source": [
        "import numpy as np\n",
        "\n",
        "\n",
        "list  = np.array([1,2,3])\n",
        "\n",
        "print(\"the list\",list)"
      ],
      "execution_count": 12,
      "outputs": [
        {
          "output_type": "stream",
          "text": [
            "the list [1 2 3]\n"
          ],
          "name": "stdout"
        }
      ]
    },
    {
      "cell_type": "code",
      "metadata": {
        "id": "NwzfJ2vRJ--8"
      },
      "source": [
        "two_d = np.array([1,2],[1,3])\n",
        "\n"
      ],
      "execution_count": null,
      "outputs": []
    }
  ]
}